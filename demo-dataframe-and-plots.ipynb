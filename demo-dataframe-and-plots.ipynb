{
 "cells": [
  {
   "cell_type": "code",
   "execution_count": null,
   "id": "61df7508",
   "metadata": {},
   "outputs": [],
   "source": [
    "import pandas as pd\n",
    "import numpy as np\n",
    "from matplotlib import pyplot as plt"
   ]
  },
  {
   "cell_type": "code",
   "execution_count": null,
   "id": "164ca85b",
   "metadata": {},
   "outputs": [],
   "source": [
    "import mercury as mr"
   ]
  },
  {
   "cell_type": "code",
   "execution_count": null,
   "id": "65089569",
   "metadata": {},
   "outputs": [],
   "source": [
    "# control app with App class\n",
    "app = mr.App(title=\"DataFrame & Plots 🚀\", description=\"Showcase of Mercury Widgets\", show_code = False)"
   ]
  },
  {
   "cell_type": "markdown",
   "id": "25e1d88b",
   "metadata": {},
   "source": [
    "# DataFrame and Plots 🎲📊\n",
    "\n",
    "Share your notebooks with everyone thanks to Mercury framework.\n",
    "\n",
    "Please change number of samples and number of features in the left side bar. Notebook will be recomputed after widget change."
   ]
  },
  {
   "cell_type": "code",
   "execution_count": null,
   "id": "2129e564",
   "metadata": {},
   "outputs": [],
   "source": [
    "samples = mr.Slider(label=\"Number of samples\", min=50, max=100, value=75)\n",
    "features = mr.Select(label=\"Number of features\", choices=[\"5\", \"10\", \"15\"], value=\"10\")"
   ]
  },
  {
   "cell_type": "code",
   "execution_count": null,
   "id": "cff7aab1",
   "metadata": {},
   "outputs": [],
   "source": [
    "data = {}\n",
    "for i in range(int(features.value)):\n",
    "    data[f\"Feature {i}\"] = np.random.rand(samples.value)\n",
    "df = pd.DataFrame(data)"
   ]
  },
  {
   "cell_type": "markdown",
   "id": "2457d704",
   "metadata": {},
   "source": [
    "## Random data 🎲"
   ]
  },
  {
   "cell_type": "code",
   "execution_count": null,
   "id": "a0c79b31",
   "metadata": {},
   "outputs": [],
   "source": [
    "df"
   ]
  },
  {
   "cell_type": "markdown",
   "id": "33dfe7e9",
   "metadata": {},
   "source": [
    "## Scatter plot 📈"
   ]
  },
  {
   "cell_type": "code",
   "execution_count": null,
   "id": "9edf0836",
   "metadata": {},
   "outputs": [],
   "source": [
    "_ = plt.plot(df[\"Feature 1\"], df[\"Feature 2\"], '*')"
   ]
  },
  {
   "cell_type": "markdown",
   "id": "57f8fb0e",
   "metadata": {},
   "source": [
    "## Random data histogram 📊"
   ]
  },
  {
   "cell_type": "code",
   "execution_count": null,
   "id": "ac652a59",
   "metadata": {},
   "outputs": [],
   "source": [
    "_ = plt.hist(df[\"Feature 1\"], bins=40)"
   ]
  }
 ],
 "metadata": {},
 "nbformat": 4,
 "nbformat_minor": 5
}
